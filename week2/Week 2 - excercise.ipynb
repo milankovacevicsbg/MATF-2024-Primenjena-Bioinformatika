{
 "cells": [
  {
   "cell_type": "markdown",
   "id": "a2ee26a9-f0cf-40dc-87b2-f777c8638090",
   "metadata": {},
   "source": [
    "### python basics - short overview"
   ]
  },
  {
   "cell_type": "code",
   "execution_count": 3,
   "id": "80063896-3056-4887-857f-66f16791ea96",
   "metadata": {},
   "outputs": [
    {
     "data": {
      "text/plain": [
       "5"
      ]
     },
     "execution_count": 3,
     "metadata": {},
     "output_type": "execute_result"
    }
   ],
   "source": [
    "a = 5\n",
    "a"
   ]
  },
  {
   "cell_type": "code",
   "execution_count": 4,
   "id": "fbed3952-2c38-495e-94fa-03209a4278e1",
   "metadata": {},
   "outputs": [],
   "source": [
    "b = \"neki string\""
   ]
  },
  {
   "cell_type": "code",
   "execution_count": 5,
   "id": "f33baf18-be72-46a2-b400-a9dd68c748c2",
   "metadata": {},
   "outputs": [
    {
     "data": {
      "text/plain": [
       "'neki string'"
      ]
     },
     "execution_count": 5,
     "metadata": {},
     "output_type": "execute_result"
    }
   ],
   "source": [
    "b"
   ]
  },
  {
   "cell_type": "code",
   "execution_count": 6,
   "id": "58eb1034-d33a-484d-8468-a02113826f1d",
   "metadata": {},
   "outputs": [
    {
     "data": {
      "text/plain": [
       "10"
      ]
     },
     "execution_count": 6,
     "metadata": {},
     "output_type": "execute_result"
    }
   ],
   "source": [
    "a + 5"
   ]
  },
  {
   "cell_type": "code",
   "execution_count": 7,
   "id": "88df67fa-5bf2-4948-8d5f-a4fd2d9f79c2",
   "metadata": {},
   "outputs": [
    {
     "data": {
      "text/plain": [
       "'neki string i drugi string'"
      ]
     },
     "execution_count": 7,
     "metadata": {},
     "output_type": "execute_result"
    }
   ],
   "source": [
    "b + ' i drugi string'"
   ]
  },
  {
   "cell_type": "code",
   "execution_count": 8,
   "id": "14eeef09-7947-4af0-be9b-429e56d0bdf2",
   "metadata": {},
   "outputs": [
    {
     "data": {
      "text/plain": [
       "10"
      ]
     },
     "execution_count": 8,
     "metadata": {},
     "output_type": "execute_result"
    }
   ],
   "source": [
    "a * 2"
   ]
  },
  {
   "cell_type": "code",
   "execution_count": 9,
   "id": "1b4ed684-76fa-49f4-a239-a461dec8a1ee",
   "metadata": {},
   "outputs": [
    {
     "data": {
      "text/plain": [
       "2.5"
      ]
     },
     "execution_count": 9,
     "metadata": {},
     "output_type": "execute_result"
    }
   ],
   "source": [
    "a / 2"
   ]
  },
  {
   "cell_type": "code",
   "execution_count": 10,
   "id": "e16cd53f-18bc-4c00-b343-26d54c2810fa",
   "metadata": {},
   "outputs": [
    {
     "data": {
      "text/plain": [
       "25"
      ]
     },
     "execution_count": 10,
     "metadata": {},
     "output_type": "execute_result"
    }
   ],
   "source": [
    "a ** 2"
   ]
  },
  {
   "cell_type": "code",
   "execution_count": 1,
   "id": "4e0f704e-d129-415d-8f2b-bcfe4ba909ad",
   "metadata": {},
   "outputs": [
    {
     "data": {
      "text/plain": [
       "[0, 1, 2, 3, 4]"
      ]
     },
     "execution_count": 1,
     "metadata": {},
     "output_type": "execute_result"
    }
   ],
   "source": [
    "l = []\n",
    "for i in range(5):\n",
    "    l.append(i)\n",
    "l"
   ]
  },
  {
   "cell_type": "code",
   "execution_count": 2,
   "id": "aa712df7-de99-4a38-a696-c705bdce329f",
   "metadata": {},
   "outputs": [
    {
     "data": {
      "text/plain": [
       "[0, 1, 4, 9, 16]"
      ]
     },
     "execution_count": 2,
     "metadata": {},
     "output_type": "execute_result"
    }
   ],
   "source": [
    "squares = [element**2 for element in l]\n",
    "squares"
   ]
  },
  {
   "cell_type": "code",
   "execution_count": 7,
   "id": "e2afaaca-b7d6-406f-89b9-2dce3c286c84",
   "metadata": {},
   "outputs": [
    {
     "data": {
      "text/plain": [
       "dict_keys(['Petar', 'Jovana', 'Marko'])"
      ]
     },
     "execution_count": 7,
     "metadata": {},
     "output_type": "execute_result"
    }
   ],
   "source": [
    "dictionary = {\n",
    "    'Petar': 'Petrovic',\n",
    "    'Jovana': 'Jovanovic',\n",
    "    'Marko': 'Markovic'\n",
    "}\n",
    "\n",
    "dictionary.keys()"
   ]
  },
  {
   "cell_type": "code",
   "execution_count": 8,
   "id": "023bf811-67a5-499c-9569-954e7d616dc6",
   "metadata": {},
   "outputs": [
    {
     "data": {
      "text/plain": [
       "dict_values(['Petrovic', 'Jovanovic', 'Markovic'])"
      ]
     },
     "execution_count": 8,
     "metadata": {},
     "output_type": "execute_result"
    }
   ],
   "source": [
    "dictionary.values()"
   ]
  },
  {
   "cell_type": "markdown",
   "id": "fd64851c-13be-432a-902f-3e247d21b309",
   "metadata": {},
   "source": [
    "### [Counting DNA nucleotides](http://rosalind.info/problems/dna/)"
   ]
  },
  {
   "cell_type": "markdown",
   "id": "6ea3ec3c-35ef-49fa-bec4-3b0561284c88",
   "metadata": {},
   "source": [
    "A string is simply an ordered collection of symbols selected from some alphabet and formed into a word; the length of a string is the number of symbols that it contains.\n",
    "\n",
    "An example of a length 21 DNA string (whose alphabet contains the symbols 'A', 'C', 'G', and 'T') is \"ATGCTTCAGAAAGGTCTTACG.\"\n",
    "\n",
    "Given: A DNA string s of length at most 1000 nt.\n",
    "\n",
    "Return: Four integers (separated by spaces) counting the respective number of times that the symbols 'A', 'C', 'G', and 'T' occur in s.\n",
    "\n",
    "**Sample Dataset** AGCTTTTCATTCTGACTGCAACGGGCAATATGTCTCTGTGTGGATTAAAAAAAGAGTGTCTGATAGCAGC\n",
    "\n",
    "**Sample Output** A:20 C:12 G:17 T:21"
   ]
  },
  {
   "cell_type": "code",
   "execution_count": 4,
   "id": "7e52f0a8-ff45-4e8d-ad1c-a72098ce7f5f",
   "metadata": {},
   "outputs": [],
   "source": [
    "read = 'AGCTTTTCATTCTGACTGCAACGGGCAATATGTCTCTGTGTGGATTAAAAAAAGAGTGTCTGATAGCAGC'"
   ]
  },
  {
   "cell_type": "code",
   "execution_count": 9,
   "id": "d9b7b1a9-cedf-46fa-afa0-8f48e4b7023e",
   "metadata": {},
   "outputs": [],
   "source": [
    "base_counts = {}"
   ]
  },
  {
   "cell_type": "code",
   "execution_count": 5,
   "id": "e6923393-b9ce-4fab-9e2c-73746b331fa5",
   "metadata": {},
   "outputs": [
    {
     "name": "stdout",
     "output_type": "stream",
     "text": [
      "{'A': 20, 'C': 12, 'G': 17, 'T': 21}\n"
     ]
    }
   ],
   "source": [
    "base_counts = {\n",
    "    'A': 0,\n",
    "    'C': 0,\n",
    "    'G': 0,\n",
    "    'T': 0\n",
    "}\n",
    "\n",
    "for base in read:\n",
    "    base_counts[base] += 1\n",
    "    \n",
    "print(base_counts)"
   ]
  },
  {
   "cell_type": "markdown",
   "id": "02e95f1e-1cf0-4935-9d9c-5e4034195686",
   "metadata": {},
   "source": [
    "### [Complementing a strand of DNA](http://rosalind.info/problems/revc/)\n",
    "\n",
    "In DNA strings, symbols 'A' and 'T' are complements of each other, as are 'C' and 'G'.\n",
    "\n",
    "The reverse complement of a DNA string s is the string sc formed by reversing the symbols of s, then taking the complement of each symbol (e.g., the reverse complement of \"GTCA\" is \"TGAC\").\n",
    "\n",
    "Given: A DNA string s of length at most 1000 bp.\n",
    "\n",
    "Return: The reverse complement sc of s.\n",
    "\n",
    "**Sample Dataset**\n",
    "AAAACCCGGT\n",
    "\n",
    "**Sample Output**\n",
    "ACCGGGTTTT"
   ]
  },
  {
   "cell_type": "code",
   "execution_count": 1,
   "id": "4a442683-f089-44ee-9270-b5bd1a180f61",
   "metadata": {},
   "outputs": [],
   "source": [
    "dna = 'AGCTTTTCATTCTGACTGCAACGGGCAATATGTCTCTGTGTGGATTAAAAAAAGAGTGTCTGATAGCAGC'"
   ]
  },
  {
   "cell_type": "code",
   "execution_count": 14,
   "id": "71a286fc-2744-442f-b886-b7614af0ea85",
   "metadata": {},
   "outputs": [],
   "source": [
    "rev = ''"
   ]
  },
  {
   "cell_type": "code",
   "execution_count": 15,
   "id": "41cb1b44-6fa4-4e6c-ad7a-e50d2e62c675",
   "metadata": {},
   "outputs": [],
   "source": [
    "# Brute force solution"
   ]
  },
  {
   "cell_type": "code",
   "execution_count": 16,
   "id": "87083fa1-d4d0-4c0e-ae2a-6ad92f5f53f9",
   "metadata": {},
   "outputs": [
    {
     "name": "stdout",
     "output_type": "stream",
     "text": [
      "GCTGCTATCAGACACTCTTTTTTTAATCCACACAGAGACATATTGCCCGTTGCAGTCAGAATGAAAAGCT\n"
     ]
    }
   ],
   "source": [
    "for i in dna:\n",
    "    if i==\"A\":\n",
    "        rev = \"T\" +rev\n",
    "    elif i ==\"C\":\n",
    "        rev = \"G\"+rev\n",
    "    elif i == \"T\":\n",
    "        rev = \"A\"+rev\n",
    "    elif i == \"G\":\n",
    "        rev = \"C\"+rev\n",
    "print (rev)\n"
   ]
  },
  {
   "cell_type": "code",
   "execution_count": 3,
   "id": "e9b76cde-07b9-4c80-9f8a-fcd1a942e738",
   "metadata": {},
   "outputs": [
    {
     "name": "stdout",
     "output_type": "stream",
     "text": [
      "A 20\n",
      "C 12\n",
      "T 21\n",
      "G 17\n"
     ]
    }
   ],
   "source": [
    "for nucleotide in ['A', 'C', 'T', 'G']:\n",
    "    print(nucleotide, dna.count(nucleotide))"
   ]
  },
  {
   "cell_type": "code",
   "execution_count": null,
   "id": "aa8d915c-bb15-48bb-a6f9-02911fac2f74",
   "metadata": {},
   "outputs": [],
   "source": [
    "# Pythonic solution"
   ]
  },
  {
   "cell_type": "code",
   "execution_count": 19,
   "id": "0e6a169b-2a1b-4a24-88d0-6256a1ec05c6",
   "metadata": {},
   "outputs": [
    {
     "data": {
      "text/plain": [
       "'GCTGCTATCAGACACTCTTTTTTTAATCCACACAGAGACATATTGCCCGTTGCAGTCAGAATGAAAAGCT'"
      ]
     },
     "execution_count": 19,
     "metadata": {},
     "output_type": "execute_result"
    }
   ],
   "source": [
    "complements = {\n",
    "    'A': 'T',\n",
    "    'C': 'G',\n",
    "    'G': 'C',\n",
    "    'T': 'A'\n",
    "}\n",
    "\n",
    "rev = ''.join([complements[base] for base in dna])[::-1]\n",
    "rev"
   ]
  },
  {
   "cell_type": "markdown",
   "id": "18e2b30f-b49a-4df6-9ff2-e3bf5f2bab2b",
   "metadata": {},
   "source": [
    "### [Transcrabing DNA into RNA](http://rosalind.info/problems/rna/)\n",
    "\n",
    "An RNA string is a string formed from the alphabet containing 'A', 'C', 'G', and 'U'.\n",
    "\n",
    "Given a DNA string t corresponding to a coding strand, its transcribed RNA string u is formed by replacing all occurrences of 'T' in t with 'U' in u.\n",
    "\n",
    "Given: A DNA string t having length at most 1000 nt.\n",
    "\n",
    "Return: The transcribed RNA string of t.\n",
    "\n",
    "**Sample Dataset**\n",
    "GATGGAACTTGACTACGTAAATT\n",
    "\n",
    "**Sample Output**\n",
    "GAUGGAACUUGACUACGUAAAUU"
   ]
  },
  {
   "cell_type": "code",
   "execution_count": 20,
   "id": "ef99b439-bfe8-477d-b1cd-b1ed274dc977",
   "metadata": {},
   "outputs": [],
   "source": [
    "dna = 'AGCTTTTCATTCTGACTGCAACGGGCAATATGTCTCTGTGTGGATTAAAAAAAGAGTGTCTGATAGCAGC'"
   ]
  },
  {
   "cell_type": "code",
   "execution_count": 21,
   "id": "93394862-3665-4372-8286-025256591a8c",
   "metadata": {},
   "outputs": [],
   "source": [
    "rna = ''"
   ]
  },
  {
   "cell_type": "code",
   "execution_count": 22,
   "id": "4a515b59-74e7-46ba-8a7e-f2945dc9f5f3",
   "metadata": {},
   "outputs": [],
   "source": [
    "# Solution"
   ]
  },
  {
   "cell_type": "code",
   "execution_count": 23,
   "id": "26503b64-913c-442d-97a5-dda42f7631b4",
   "metadata": {},
   "outputs": [
    {
     "data": {
      "text/plain": [
       "'AGCUUUUCAUUCUGACUGCAACGGGCAAUAUGUCUCUGUGUGGAUUAAAAAAAGAGUGUCUGAUAGCAGC'"
      ]
     },
     "execution_count": 23,
     "metadata": {},
     "output_type": "execute_result"
    }
   ],
   "source": [
    "rna = dna.replace('T', 'U')\n",
    "rna"
   ]
  },
  {
   "cell_type": "markdown",
   "id": "69d9d53b-1918-4771-bdc8-522e68714c0f",
   "metadata": {},
   "source": [
    "### Parsing FASTQ file\n"
   ]
  },
  {
   "cell_type": "code",
   "execution_count": 5,
   "id": "3ca9c49f-bf3e-4ad7-928b-7dc72e38f0b3",
   "metadata": {},
   "outputs": [],
   "source": [
    "# import required libraries\n",
    "from statistics import mean\n",
    "import matplotlib.pyplot as plt\n",
    "# load fastq file (change path to file)\n",
    "\n",
    "# Copy the file to your project from Data -> Public test files\n",
    "fastq_path = '/sbgenomics/project-files/example_human_Illumina.pe_1.fastq'\n",
    "# read lines of a file as a list\n",
    "with open(fastq_path) as file:\n",
    "    lines=file.readlines()"
   ]
  },
  {
   "cell_type": "markdown",
   "id": "f803ce91-0a4f-4873-bbab-f51d68e18e3b",
   "metadata": {},
   "source": [
    "* Count the number of reads. Create a list of reads and count them"
   ]
  },
  {
   "cell_type": "code",
   "execution_count": 6,
   "id": "d7969838-72cf-4481-86d6-9b7af91d2c86",
   "metadata": {},
   "outputs": [],
   "source": [
    "read_count = 0"
   ]
  },
  {
   "cell_type": "code",
   "execution_count": 7,
   "id": "2be3b887-e0f5-4eb0-8b74-88aaf76d5e5d",
   "metadata": {},
   "outputs": [
    {
     "name": "stdout",
     "output_type": "stream",
     "text": [
      "172\n"
     ]
    }
   ],
   "source": [
    "# Solution\n",
    "reads=[item.strip() for item in lines[1::4]]\n",
    "read_count = len(reads)\n",
    "\n",
    "print(read_count)"
   ]
  },
  {
   "cell_type": "markdown",
   "id": "11e291bf-be3b-4f7e-bced-9c8869ba5f1f",
   "metadata": {},
   "source": [
    "* Convert read qualities to Phred scores and save them to the Python list."
   ]
  },
  {
   "cell_type": "code",
   "execution_count": 8,
   "id": "ad639000-f40d-472c-9700-c7a44272d0ea",
   "metadata": {},
   "outputs": [],
   "source": [
    "quals=[item.strip() for item in lines[3::4]]\n",
    "phred_scores = []\n",
    "phred = []\n",
    "for q in quals:\n",
    "    for char in q:\n",
    "        phred.append(ord(char)-33)\n",
    "    phred_scores.append(phred)\n",
    "    phred = []"
   ]
  },
  {
   "cell_type": "markdown",
   "id": "6692a586-2333-4c0a-b8fd-1689cdcf65ed",
   "metadata": {},
   "source": [
    "* Calculate average read qualities (use phred_scores) s and store them in a Python list."
   ]
  },
  {
   "cell_type": "code",
   "execution_count": 31,
   "id": "ad114685-a851-4065-a7bc-75e0d7223724",
   "metadata": {},
   "outputs": [],
   "source": [
    "av_phred_scores = [mean(phred) for phred in phred_scores]"
   ]
  },
  {
   "cell_type": "markdown",
   "id": "5eb667bf-602c-4ef7-b762-5b735d249f0f",
   "metadata": {},
   "source": [
    "* Create histogram of average read quality"
   ]
  },
  {
   "cell_type": "code",
   "execution_count": 33,
   "id": "c322b069-b3ef-415a-9962-cb797ab983bd",
   "metadata": {},
   "outputs": [
    {
     "data": {
      "image/png": "[encoded data removed]",
      "text/plain": [
       "<Figure size 432x288 with 1 Axes>"
      ]
     },
     "metadata": {
      "needs_background": "light"
     },
     "output_type": "display_data"
    }
   ],
   "source": [
    "plt.hist(av_phred_scores)\n",
    "plt.xlabel('Read count')\n",
    "plt.ylabel('Average read quality')\n",
    "plt.show()"
   ]
  },
  {
   "cell_type": "markdown",
   "id": "c9506ffc-da97-484f-8185-f8f1aa9cdf67",
   "metadata": {},
   "source": [
    "* Calculate average read qualities per base (use phred_scores) and plot them"
   ]
  },
  {
   "cell_type": "code",
   "execution_count": 34,
   "id": "5ce8d7d3-a39d-49ce-bf2a-2971c04d0b41",
   "metadata": {},
   "outputs": [
    {
     "data": {
      "text/plain": [
       "Text(0, 0.5, 'Per base sequence quality')"
      ]
     },
     "execution_count": 34,
     "metadata": {},
     "output_type": "execute_result"
    },
    {
     "data": {
      "image/png": "[encoded data removed]",
      "text/plain": [
       "<Figure size 432x288 with 1 Axes>"
      ]
     },
     "metadata": {
      "needs_background": "light"
     },
     "output_type": "display_data"
    }
   ],
   "source": [
    "av_bp_scores = [mean(position) for position in zip(*phred_scores)]\n",
    "plt.plot(range(0,len(av_bp_scores))av_bp_scores, 'red')\n",
    "plt.xlabel('Position in read')\n",
    "plt.ylabel('Per base sequence quality')"
   ]
  },
  {
   "cell_type": "markdown",
   "id": "8d4fb671-7f95-42b2-84be-d98f09b5dde1",
   "metadata": {},
   "source": [
    "Thats it. Feel free to try other tasks and challanges available at [rosalind](https://rosalind.info/)"
   ]
  },
  {
   "cell_type": "code",
   "execution_count": null,
   "id": "a6709c0c-b6c9-4457-af15-6ca552390297",
   "metadata": {},
   "outputs": [],
   "source": []
  }
 ],
 "metadata": {
  "kernelspec": {
   "display_name": "Python 3 (ipykernel)",
   "language": "python",
   "name": "python3"
  },
  "language_info": {
   "codemirror_mode": {
    "name": "ipython",
    "version": 3
   },
   "file_extension": ".py",
   "mimetype": "text/x-python",
   "name": "python",
   "nbconvert_exporter": "python",
   "pygments_lexer": "ipython3",
   "version": "3.9.6"
  }
 },
 "nbformat": 4,
 "nbformat_minor": 5
}
