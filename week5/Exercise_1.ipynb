{
 "cells": [
  {
   "cell_type": "markdown",
   "id": "4d323bf8-3be8-43b2-942d-13cfe248ef2a",
   "metadata": {},
   "source": [
    "# Exercise 1"
   ]
  },
  {
   "cell_type": "markdown",
   "id": "b11c4ce3-44de-481a-a80b-22b5eb7fef78",
   "metadata": {},
   "source": [
    "In this exercise you will be implementing a simple aligner. You will use to to align the following read: 'ACATACACATGTCCTGTTTTGATGTCCTATAATTAATTTTCTCTCCGTTTTTAACTTTTATCTATCTTATTAATGT'\n",
    "to the refernece sequence located in the file example_human_reference.fasta (contig 20)"
   ]
  },
  {
   "cell_type": "markdown",
   "id": "3b87d23e-e138-4b54-948e-a6277dcf9e86",
   "metadata": {},
   "source": [
    "## Seed phase"
   ]
  },
  {
   "cell_type": "markdown",
   "id": "ad1a95e2-1710-4d75-82d4-f4b037e45340",
   "metadata": {},
   "source": [
    "* Implement a simple hash-based aligner in Python\n",
    "    * A dict can be used to create the index\n",
    "    * Create an index for each kmer in a sequence\n",
    "    * Create this index for the example fasta file (in the data directory, used in Week 5)\n",
    "\n",
    "\n",
    "\n",
    "* To map a read, find locations for each kmer in the read\n",
    "    * Mind the offset from the beginning of the read\n",
    "    * Find the region with most kmers mapping to it\n",
    "    * collections.Counter() may be useful (pass a list to Counter(), and it will return the number of times each element occurs in the list)"
   ]
  },
  {
   "cell_type": "code",
   "execution_count": 36,
   "id": "1899e4bb-feac-48ce-a19a-13f357134fa7",
   "metadata": {},
   "outputs": [],
   "source": [
    "import pysam # pip install pysam\n",
    "import sys\n",
    "from collections import Counter\n",
    "from itertools import chain"
   ]
  },
  {
   "cell_type": "markdown",
   "id": "f7b66a9a-19a3-494c-a662-c107c710bf30",
   "metadata": {},
   "source": [
    "Reading necessary data: reference sequence chr 20, read sequence, kmer size"
   ]
  },
  {
   "cell_type": "code",
   "execution_count": 37,
   "id": "f98a46c3-ff17-46b3-89ce-16f2acf0e41d",
   "metadata": {},
   "outputs": [],
   "source": [
    "fasta = pysam.FastaFile(\"/sbgenomics/project-files/example_human_reference.fasta\").fetch('20')\n",
    "read = 'ACATACACATGTCCTGTTTTGATGTCCTATAATTAATTTTCTCTCCGTTTTTAACTTTTATCTATCTTATTAATGT'\n",
    "k = 10"
   ]
  },
  {
   "cell_type": "markdown",
   "id": "f8c9b290-81f1-4c72-84fa-d65d0b57b733",
   "metadata": {},
   "source": [
    "STEP 1: Create index for provided fasta file"
   ]
  },
  {
   "cell_type": "code",
   "execution_count": 38,
   "id": "8eb3303b-5024-43c6-96bc-77609734e13e",
   "metadata": {},
   "outputs": [],
   "source": [
    "# function to create index out of reference\n",
    "def create_index(fasta, k):\n",
    "    kmers = {}\n",
    "    for i, x in enumerate(fasta[:-k]):\n",
    "        kmer = fasta[i:i+k]\n",
    "        if kmer not in kmers:\n",
    "            kmers[kmer] = []\n",
    "        kmers[kmer].append(i)\n",
    "    return kmers"
   ]
  },
  {
   "cell_type": "markdown",
   "id": "0b4082a3-d44f-4bde-9b0f-70c4716d4972",
   "metadata": {},
   "source": [
    "STEP 2: Get number of unique k-mers and number kmers with of colisions"
   ]
  },
  {
   "cell_type": "code",
   "execution_count": 39,
   "id": "1e3aaf71-4147-4dd7-bbb1-86bb221bc041",
   "metadata": {},
   "outputs": [
    {
     "name": "stdout",
     "output_type": "stream",
     "text": [
      "Number of unique k-mers: 9759\n",
      "Number of k-mers with collisions: 213\n"
     ]
    }
   ],
   "source": [
    "index = create_index(fasta, k)\n",
    "print(\"Number of unique k-mers:\", len(index))\n",
    "print(\"Number of k-mers with collisions:\", len({k:v for k,v in (index).items() if len(v)>1}))"
   ]
  },
  {
   "cell_type": "markdown",
   "id": "bec7d0ba-52d7-46fe-bcbe-6f0640a88a8f",
   "metadata": {},
   "source": [
    "STEP 3: Create seed function which will return dict with reference positions as keys and with number of supporting kmers as values"
   ]
  },
  {
   "cell_type": "code",
   "execution_count": 40,
   "id": "b086e025-c514-453c-b5bc-1b208d3086ab",
   "metadata": {},
   "outputs": [],
   "source": [
    "def seed_read1(index, k, read):\n",
    "    return Counter(chain.from_iterable([[y-i for y in index.get(read[i:i+k], [])] for i in range(len(read) - k +1)]))"
   ]
  },
  {
   "cell_type": "code",
   "execution_count": 41,
   "id": "55ba1499-0b23-4058-9a58-57a7fba34d75",
   "metadata": {},
   "outputs": [],
   "source": [
    "def seed_read2(index, k, read):\n",
    "    result = []\n",
    "    for i,c in enumerate(read):\n",
    "        if i+k-1 == len(read):\n",
    "            break\n",
    "        kmer_results = []\n",
    "        for kmer_position in index[read[i:i+k]]:\n",
    "            #we return starting position of a read on the reference, not kmer on the reference, so we need to subtrac i\n",
    "            kmer_results.append(kmer_position-i)\n",
    "        result.append(kmer_results)\n",
    "    return Counter(chain.from_iterable(result))"
   ]
  },
  {
   "cell_type": "markdown",
   "id": "f8be3db5-f4a3-4ac8-b2cc-c6c9fb9d3b6c",
   "metadata": {},
   "source": [
    "# DODATO NAKON PREDAVANJA:\n",
    "Izlistamo sve k-mere ako zelimo da vidimo koliko ih ima i koji su da bismo bolje razumeli seed korak. "
   ]
  },
  {
   "cell_type": "code",
   "execution_count": 58,
   "id": "0330bc6c-0d6b-4b0f-b7b2-21f77b4d2bb4",
   "metadata": {},
   "outputs": [],
   "source": [
    "def kmerize(read,k):\n",
    "  read_len=len(read)\n",
    "#k-mer should not be longer than read;  \n",
    "  if k>=read_len:\n",
    "    print (\"The specified k-mer size is greater or equal to the length of the sequence. Please specify another value.\")\n",
    "    return \n",
    "  step_size=k-1\n",
    "  i=0\n",
    "  kmers=[]\n",
    "  while i+step_size<read_len:\n",
    "    if read[i:i+k] not in kmers:\n",
    "        kmers.append(read[i:i+k])\n",
    "    i+=1\n",
    "  return (kmers)"
   ]
  },
  {
   "cell_type": "code",
   "execution_count": 59,
   "id": "a978c7bb-6ca9-46c7-8d30-930d05c3d70d",
   "metadata": {},
   "outputs": [],
   "source": [
    "ks = kmerize(read, 10)"
   ]
  },
  {
   "cell_type": "code",
   "execution_count": 61,
   "id": "5d6a644c-156d-40bb-8e6d-6f32a2ebca1e",
   "metadata": {},
   "outputs": [
    {
     "name": "stdout",
     "output_type": "stream",
     "text": [
      "['ACATACACAT', 'CATACACATG', 'ATACACATGT', 'TACACATGTC', 'ACACATGTCC', 'CACATGTCCT', 'ACATGTCCTG', 'CATGTCCTGT', 'ATGTCCTGTT', 'TGTCCTGTTT', 'GTCCTGTTTT', 'TCCTGTTTTG', 'CCTGTTTTGA', 'CTGTTTTGAT', 'TGTTTTGATG', 'GTTTTGATGT', 'TTTTGATGTC', 'TTTGATGTCC', 'TTGATGTCCT', 'TGATGTCCTA', 'GATGTCCTAT', 'ATGTCCTATA', 'TGTCCTATAA', 'GTCCTATAAT', 'TCCTATAATT', 'CCTATAATTA', 'CTATAATTAA', 'TATAATTAAT', 'ATAATTAATT', 'TAATTAATTT', 'AATTAATTTT', 'ATTAATTTTC', 'TTAATTTTCT', 'TAATTTTCTC', 'AATTTTCTCT', 'ATTTTCTCTC', 'TTTTCTCTCC', 'TTTCTCTCCG', 'TTCTCTCCGT', 'TCTCTCCGTT', 'CTCTCCGTTT', 'TCTCCGTTTT', 'CTCCGTTTTT', 'TCCGTTTTTA', 'CCGTTTTTAA', 'CGTTTTTAAC', 'GTTTTTAACT', 'TTTTTAACTT', 'TTTTAACTTT', 'TTTAACTTTT', 'TTAACTTTTA', 'TAACTTTTAT', 'AACTTTTATC', 'ACTTTTATCT', 'CTTTTATCTA', 'TTTTATCTAT', 'TTTATCTATC', 'TTATCTATCT', 'TATCTATCTT', 'ATCTATCTTA', 'TCTATCTTAT', 'CTATCTTATT', 'TATCTTATTA', 'ATCTTATTAA', 'TCTTATTAAT', 'CTTATTAATG', 'TTATTAATGT']\n"
     ]
    }
   ],
   "source": [
    "print(ks)"
   ]
  },
  {
   "cell_type": "code",
   "execution_count": 71,
   "id": "2e46ac26-f6ce-4cca-a840-ff9af11c02c3",
   "metadata": {},
   "outputs": [
    {
     "name": "stdout",
     "output_type": "stream",
     "text": [
      "ATTAATTTTC\n"
     ]
    }
   ],
   "source": [
    "print(ks[31])"
   ]
  },
  {
   "cell_type": "code",
   "execution_count": 82,
   "id": "6a7ef19e-8055-4fc0-9843-01f0ae2eba49",
   "metadata": {},
   "outputs": [
    {
     "data": {
      "text/plain": [
       "67"
      ]
     },
     "execution_count": 82,
     "metadata": {},
     "output_type": "execute_result"
    }
   ],
   "source": [
    "len(ks)"
   ]
  },
  {
   "cell_type": "markdown",
   "id": "7a4880dc-bdcd-4c4e-9fc3-0fa5e041c035",
   "metadata": {},
   "source": [
    "Ovih 67 k-mera koristimo kao seed-ove i gledamo gde mozemo da mapiramo na referenci:"
   ]
  },
  {
   "cell_type": "code",
   "execution_count": 47,
   "id": "f67e7086-1fb9-40ee-b545-7c047f14ffe3",
   "metadata": {},
   "outputs": [],
   "source": [
    "k = 10"
   ]
  },
  {
   "cell_type": "code",
   "execution_count": 48,
   "id": "a776c0f5-5091-443e-8566-5ff11a493587",
   "metadata": {},
   "outputs": [
    {
     "data": {
      "text/plain": [
       "Counter({5793: 67, 792: 2})"
      ]
     },
     "execution_count": 48,
     "metadata": {},
     "output_type": "execute_result"
    }
   ],
   "source": [
    "seed_read1(index,k,read)"
   ]
  },
  {
   "cell_type": "code",
   "execution_count": 49,
   "id": "5350600a-ed04-495f-b1eb-6eef08c33884",
   "metadata": {},
   "outputs": [
    {
     "data": {
      "text/plain": [
       "Counter({5793: 67, 792: 2})"
      ]
     },
     "execution_count": 49,
     "metadata": {},
     "output_type": "execute_result"
    }
   ],
   "source": [
    "seed_read2(index,k,read)"
   ]
  },
  {
   "cell_type": "markdown",
   "id": "9c2dcdac-aa25-4cc5-a84e-4c16521e3e4c",
   "metadata": {},
   "source": [
    "Dva k-mera se mapiraju na dve razlicite pozicije kada koristimo zadate vrednosti. Svejedno, pozicija koja ima najvise mapirani seed-ova nam je znak da se read tu najbolje uklapa. Sad cemo to proveriti i videti kako zapravo izgleda referentna sekvenca duzine reada na izvucenim pozicijama:"
   ]
  },
  {
   "cell_type": "markdown",
   "id": "b3feca02-3f8c-49ff-b97a-7fc8e83c4f77",
   "metadata": {},
   "source": [
    "**5793 i 792 su pozicije na referenci gde bi se READ potencijalno mapirao, ne gde se taj seed, odnosno k-mer nalazi!**"
   ]
  },
  {
   "cell_type": "markdown",
   "id": "aded5ca9-6bb9-45bc-8ebc-e3d11f70cc0e",
   "metadata": {},
   "source": [
    "Proverite duzinu read-a i onda izvucite string iz fasta-e gde bi se taj read mapirao. Da li se nas read bolje uklapa u string na referenci koji pocinje na poziciji 792 ili 5793?"
   ]
  },
  {
   "cell_type": "code",
   "execution_count": 83,
   "id": "0e941067-3c9a-4cf3-bc61-aa92a00eed54",
   "metadata": {},
   "outputs": [
    {
     "data": {
      "text/plain": [
       "76"
      ]
     },
     "execution_count": 83,
     "metadata": {},
     "output_type": "execute_result"
    }
   ],
   "source": [
    "len(read)"
   ]
  },
  {
   "cell_type": "code",
   "execution_count": 84,
   "id": "546bfe75-adfd-46d7-846b-f2a1a321a863",
   "metadata": {},
   "outputs": [
    {
     "name": "stdout",
     "output_type": "stream",
     "text": [
      "ACATACACATGTCCTGTTTTGATGTCCTATAATTAATTTTCTCTCCGTTTTTAACTTTTATCTATCTTATTAATGT\n"
     ]
    }
   ],
   "source": [
    "print(read)"
   ]
  },
  {
   "cell_type": "code",
   "execution_count": 85,
   "id": "27f0d4db-dd9e-4d9d-badd-2c7bd015e767",
   "metadata": {},
   "outputs": [
    {
     "data": {
      "text/plain": [
       "'CTAATCGCCTCTAGCTGAAATTTTAATTTTGATTAATTTTCTTTTTCTCCATTGGTTTCGTGTGTGTGTGGAGGTA'"
      ]
     },
     "execution_count": 85,
     "metadata": {},
     "output_type": "execute_result"
    }
   ],
   "source": [
    "fasta[792:(792 + 76)]"
   ]
  },
  {
   "cell_type": "code",
   "execution_count": 86,
   "id": "a81d0a48-14ab-4e23-9579-86553b15b468",
   "metadata": {},
   "outputs": [
    {
     "data": {
      "text/plain": [
       "'ACATACACATGTCCTGTTTTGATGTCCTATAATTAATTTTCTCTCCGTTTTTAACTTTTATCTATCTTATTAATGT'"
      ]
     },
     "execution_count": 86,
     "metadata": {},
     "output_type": "execute_result"
    }
   ],
   "source": [
    "fasta[5793:(5793 + 76)]"
   ]
  },
  {
   "cell_type": "markdown",
   "id": "d54a272e-4edb-4dc2-8a18-e6d1fbefec0e",
   "metadata": {},
   "source": [
    "Da li je sad malo jasnije? :) "
   ]
  },
  {
   "cell_type": "markdown",
   "id": "31f9d6f1-f88a-4b15-9685-030f4a8ff8ae",
   "metadata": {},
   "source": [
    "STEP 4: Possible improvements? Filter out all kmers that have more than n mapping positions"
   ]
  },
  {
   "cell_type": "code",
   "execution_count": 87,
   "id": "103a7b2c-fd6c-4d64-9380-db0772a0d097",
   "metadata": {},
   "outputs": [],
   "source": [
    "def seed_read2_with_improvements(index, k, read, n=2):\n",
    "    result = []\n",
    "    for i,c in enumerate(read):\n",
    "        if i+k-1 == len(read):\n",
    "            break\n",
    "        kmer_results = []\n",
    "        for kmer_position in index[read[i:i+k]]:\n",
    "            #we return starting position of a read on the reference, not kmer on the reference, so we need to subtrac i\n",
    "            kmer_results.append(kmer_position-i)\n",
    "        if len(kmer_results)<=n:\n",
    "            result.append(kmer_results)\n",
    "    return Counter(chain.from_iterable(result))"
   ]
  },
  {
   "cell_type": "code",
   "execution_count": 88,
   "id": "1b60eb96-11a4-4ccf-a04b-3bd17b28ebb1",
   "metadata": {},
   "outputs": [
    {
     "data": {
      "text/plain": [
       "Counter({5793: 67, 792: 2})"
      ]
     },
     "execution_count": 88,
     "metadata": {},
     "output_type": "execute_result"
    }
   ],
   "source": [
    "seed_read2_with_improvements(index,k,read)"
   ]
  },
  {
   "cell_type": "code",
   "execution_count": 89,
   "id": "f3336274-906d-4564-bc60-f4b072062798",
   "metadata": {},
   "outputs": [
    {
     "data": {
      "text/plain": [
       "Counter({5793: 65})"
      ]
     },
     "execution_count": 89,
     "metadata": {},
     "output_type": "execute_result"
    }
   ],
   "source": [
    "seed_read2_with_improvements(index,k,read, 1)"
   ]
  },
  {
   "cell_type": "code",
   "execution_count": null,
   "id": "8f794df7-4d44-4e13-91b0-302d2285e87f",
   "metadata": {},
   "outputs": [],
   "source": []
  }
 ],
 "metadata": {
  "kernelspec": {
   "display_name": "Python 3 (ipykernel)",
   "language": "python",
   "name": "python3"
  },
  "language_info": {
   "codemirror_mode": {
    "name": "ipython",
    "version": 3
   },
   "file_extension": ".py",
   "mimetype": "text/x-python",
   "name": "python",
   "nbconvert_exporter": "python",
   "pygments_lexer": "ipython3",
   "version": "3.9.6"
  }
 },
 "nbformat": 4,
 "nbformat_minor": 5
}
