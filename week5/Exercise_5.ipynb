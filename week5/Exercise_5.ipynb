{
 "cells": [
  {
   "cell_type": "markdown",
   "id": "2411ada3-290c-416c-9ad4-23473b129159",
   "metadata": {},
   "source": [
    "# Exercise 5"
   ]
  },
  {
   "cell_type": "markdown",
   "id": "b4f419dd-7208-47b1-9ba3-bb2ef51b1e77",
   "metadata": {},
   "source": [
    "Create an AlignmentFile object for “merged-tumor.bam”\n",
    "\n",
    "* Take the first read from the AlignmentFile\n",
    "* Inspect the fields in the AlignedSegment\n",
    "* Inspect the flag field\n",
    "* Check out the flag for some reads using: https://broadinstitute.github.io/picard/explain-flags.html\n",
    "\n",
    "\n",
    "Calculate:\n",
    "* How many unmapped reads are in the file?\n",
    "* Total number of reads\n",
    "* Number of reads with mapping quality 0\n",
    "* Average mapping quality for all the reads\n",
    "* Average mapping quality if reads with 0 mapp quality are filtered out"
   ]
  },
  {
   "cell_type": "code",
   "execution_count": 1,
   "id": "72f107ea-3e7b-4537-ad0e-c4d9efe605d1",
   "metadata": {},
   "outputs": [],
   "source": [
    "import pysam"
   ]
  },
  {
   "cell_type": "code",
   "execution_count": 2,
   "id": "aab871e4-aae6-4df9-a38b-ff95fdd232bb",
   "metadata": {},
   "outputs": [],
   "source": [
    "bam = pysam.AlignmentFile('/sbgenomics/project-files/merged-tumor.bam')"
   ]
  },
  {
   "cell_type": "code",
   "execution_count": 3,
   "id": "90e2c612-372c-4185-ad8d-ffc2acd83bce",
   "metadata": {},
   "outputs": [
    {
     "name": "stdout",
     "output_type": "stream",
     "text": [
      "C0HVYACXX120402:7:1207:5722:57044\t1187\t#20\t9483249\t27\t76M\t#20\t9483382\t209\tTTTTCAAACAGTATCTATGCCTGCCAAATGTGAACATATAAAAAAAAACCAGAATGTGCCATTCTGATTTAAACTG\tarray('B', [28, 28, 27, 29, 31, 30, 31, 31, 29, 31, 35, 30, 29, 31, 34, 30, 29, 23, 41, 32, 20, 30, 29, 34, 34, 29, 30, 31, 30, 30, 30, 33, 33, 26, 39, 12, 25, 19, 32, 30, 35, 28, 35, 33, 23, 33, 35, 36, 30, 38, 33, 41, 34, 35, 31, 33, 23, 30, 30, 36, 27, 32, 29, 34, 35, 41, 33, 31, 33, 29, 32, 32, 31, 31, 31, 34])\t[('XA', 'GL000217.1,-110754,76M,1;'), ('BD', 'NNNNNNNNNNNNNNNNNNNNNNNNNNNNNNNNNNNNNNNNNNNNNNNNNNNNNNNNNNNNNNNNNNNNNNNNNNNN'), ('MD', '76'), ('RG', '1'), ('BI', 'NNNNNNNNNNNNNNNNNNNNNNNNNNNNNNNNNNNNNNNNNNNNNNNNNNNNNNNNNNNNNNNNNNNNNNNNNNNN'), ('NM', 0), ('MQ', 27), ('AS', 76), ('XS', 71)]\n"
     ]
    }
   ],
   "source": [
    "for x in bam:\n",
    "    print(x)\n",
    "    break"
   ]
  },
  {
   "cell_type": "markdown",
   "id": "0076d82b-70c3-49ba-a98b-b9175d6dcf31",
   "metadata": {},
   "source": [
    "1. QNAME: Query template NAME. \n",
    "2. FLAG: Combination of bitwise FLAGs\n",
    "3. RNAME: Reference sequence NAME of the alignment. \n",
    "4. POS: 1-based leftmost mapping POSition of the first matching base. \n",
    "5. MAPQ: MAPping Quality. \n",
    "6. CIGAR: Concise Idiosyncratic Gapped Alignment Report (CIGAR) string.\n",
    "7. RNEXT: Reference sequence name of the primary alignment of the NEXT read in the template. \n",
    "8. PNEXT: Position of the primary alignment of the NEXT read in the template. \n",
    "9. TLEN: signed observed Template LENgth.\n",
    "10. SEQ: segment SEQuence. \n",
    "11. QUAL: ASCII of base QUALity plus 33."
   ]
  },
  {
   "cell_type": "markdown",
   "id": "2e905f72-7f3d-44cc-b909-27a47397d712",
   "metadata": {},
   "source": [
    "Calculate number of unmapped reads"
   ]
  },
  {
   "cell_type": "code",
   "execution_count": 7,
   "id": "b875f108-6220-451f-97b4-14a7d02c0e05",
   "metadata": {},
   "outputs": [
    {
     "name": "stdout",
     "output_type": "stream",
     "text": [
      "Number of unmapped reads:  17765\n"
     ]
    }
   ],
   "source": [
    "unmapped_count = 0\n",
    "\n",
    "for x in bam.fetch():\n",
    "    if x.is_unmapped:\n",
    "        unmapped_count +=1\n",
    "        \n",
    "print(\"Number of unmapped reads: \", unmapped_count)"
   ]
  },
  {
   "cell_type": "code",
   "execution_count": 8,
   "id": "ddc2bedc-97b8-4065-90c7-cd9ca9422c94",
   "metadata": {},
   "outputs": [
    {
     "name": "stdout",
     "output_type": "stream",
     "text": [
      "Total number of reads: 2921629\n",
      "Number of reads with mapping quality 0: 126628\n",
      "Average mapping quality for all the reads: 55.91379158681681\n",
      "Average mapping quality if reads with 0 mapp quality are filtered out: 58.446975510921106\n"
     ]
    }
   ],
   "source": [
    "print(\"Total number of reads:\", len([x.mapping_quality for x in bam.fetch()]))\n",
    "\n",
    "print(\"Number of reads with mapping quality 0:\", len([x.mapping_quality for x in bam.fetch() if x.mapping_quality == 0]))\n",
    "\n",
    "print(\"Average mapping quality for all the reads:\", sum([x.mapping_quality for x in bam.fetch()])/len([x.mapping_quality for x in bam.fetch()]))\n",
    "\n",
    "print(\"Average mapping quality if reads with 0 mapp quality are filtered out:\", sum([x.mapping_quality for x in bam.fetch() if x.mapping_quality > 0])/len([x.mapping_quality for x in bam.fetch() if x.mapping_quality > 0]))"
   ]
  },
  {
   "cell_type": "code",
   "execution_count": null,
   "id": "8a6a4b31-9266-444b-93e1-00ca154e36b7",
   "metadata": {},
   "outputs": [],
   "source": []
  }
 ],
 "metadata": {
  "kernelspec": {
   "display_name": "Python 3 (ipykernel)",
   "language": "python",
   "name": "python3"
  },
  "language_info": {
   "codemirror_mode": {
    "name": "ipython",
    "version": 3
   },
   "file_extension": ".py",
   "mimetype": "text/x-python",
   "name": "python",
   "nbconvert_exporter": "python",
   "pygments_lexer": "ipython3",
   "version": "3.9.6"
  }
 },
 "nbformat": 4,
 "nbformat_minor": 5
}
