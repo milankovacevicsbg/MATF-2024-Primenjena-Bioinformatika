{
 "cells": [
  {
   "cell_type": "markdown",
   "id": "9abd5593-7195-4c85-988b-e6ef0857cf14",
   "metadata": {},
   "source": [
    "# Exercise 3 - Smith Waterman simplified implementation"
   ]
  },
  {
   "cell_type": "markdown",
   "id": "6d43189c-5688-4fd2-b0cf-27ed8a7a5f7c",
   "metadata": {},
   "source": [
    "Implement algorithm that will fill in score table for two sequences\n",
    "\n",
    "Let’s test it on previous example:\n",
    "\n",
    "* Sequence1 - \"attcagct\"\n",
    "* Sequence2 - \"atcagtct”\n",
    "\n",
    "\n",
    "Scoring:\n",
    "\n",
    "* indel_score = -2\n",
    "* match_score = 2\n",
    "* mismatch_score = -1"
   ]
  },
  {
   "cell_type": "code",
   "execution_count": 1,
   "id": "5647ee59-4a63-4d19-af09-899e5dd454d9",
   "metadata": {},
   "outputs": [],
   "source": [
    "import numpy"
   ]
  },
  {
   "cell_type": "code",
   "execution_count": 2,
   "id": "0231056c-7826-4e27-9557-6bc010f79db1",
   "metadata": {},
   "outputs": [],
   "source": [
    "sequence1 = \"atcagtct\"\n",
    "sequence2 = \"attcagct\"\n",
    "\n",
    "indel_score = -2\n",
    "match_score = 2\n",
    "mismatch_score = -1\n",
    "\n",
    "sequence1 = \"-\" + sequence1\n",
    "sequence2 = \"-\" + sequence2"
   ]
  },
  {
   "cell_type": "code",
   "execution_count": 3,
   "id": "a182b579-3a4d-4b65-b843-2d26543249cc",
   "metadata": {},
   "outputs": [],
   "source": [
    "#inicijalizacija matrice nulama\n",
    "score_table = numpy.zeros((len(sequence1), len(sequence2)))"
   ]
  },
  {
   "cell_type": "code",
   "execution_count": 6,
   "id": "89a66315-b9ac-4cc0-8ab1-f541727af644",
   "metadata": {},
   "outputs": [],
   "source": [
    "def calculate_possibilities(score_table, i, j, sequence1, sequence2):\n",
    "    values = []\n",
    "    #diagonal comming to the cell\n",
    "    if sequence1[i] == sequence2[j]:\n",
    "        values.append(score_table[i-1][j-1] + match_score)\n",
    "    else:\n",
    "        values.append(score_table[i-1][j-1] + mismatch_score)\n",
    "    # from upper cell or left cell\n",
    "    values.append(score_table[i][j-1] + indel_score)\n",
    "    values.append(score_table[i-1][j] + indel_score)\n",
    "    #if all values are lower than 0\n",
    "    values.append(0)\n",
    "    return values"
   ]
  },
  {
   "cell_type": "code",
   "execution_count": 7,
   "id": "00d8fd82-d8fb-423d-a197-c0f477e1050d",
   "metadata": {},
   "outputs": [],
   "source": [
    "for i in range(1,len(sequence1)):\n",
    "    for j in range(1,len(sequence2)):\n",
    "        score_table[i][j] = max(calculate_possibilities(score_table, i, j, sequence1, sequence2))"
   ]
  },
  {
   "cell_type": "code",
   "execution_count": 8,
   "id": "e1063c75-d7c4-47bb-a07e-83f693462817",
   "metadata": {},
   "outputs": [
    {
     "name": "stdout",
     "output_type": "stream",
     "text": [
      "[[ 0.  0.  0.  0.  0.  0.  0.  0.  0.]\n",
      " [ 0.  2.  0.  0.  0.  2.  0.  0.  0.]\n",
      " [ 0.  0.  4.  2.  0.  0.  1.  0.  2.]\n",
      " [ 0.  0.  2.  3.  4.  2.  0.  3.  1.]\n",
      " [ 0.  2.  0.  1.  2.  6.  4.  2.  2.]\n",
      " [ 0.  0.  1.  0.  0.  4.  8.  6.  4.]\n",
      " [ 0.  0.  2.  3.  1.  2.  6.  7.  8.]\n",
      " [ 0.  0.  0.  1.  5.  3.  4.  8.  6.]\n",
      " [ 0.  0.  2.  2.  3.  4.  2.  6. 10.]]\n"
     ]
    }
   ],
   "source": [
    "print(score_table)"
   ]
  },
  {
   "cell_type": "code",
   "execution_count": null,
   "id": "a2b4c63d-e6f9-4bfa-b700-403f899f5fa6",
   "metadata": {},
   "outputs": [],
   "source": []
  }
 ],
 "metadata": {
  "kernelspec": {
   "display_name": "Python 3 (ipykernel)",
   "language": "python",
   "name": "python3"
  },
  "language_info": {
   "codemirror_mode": {
    "name": "ipython",
    "version": 3
   },
   "file_extension": ".py",
   "mimetype": "text/x-python",
   "name": "python",
   "nbconvert_exporter": "python",
   "pygments_lexer": "ipython3",
   "version": "3.9.6"
  }
 },
 "nbformat": 4,
 "nbformat_minor": 5
}
