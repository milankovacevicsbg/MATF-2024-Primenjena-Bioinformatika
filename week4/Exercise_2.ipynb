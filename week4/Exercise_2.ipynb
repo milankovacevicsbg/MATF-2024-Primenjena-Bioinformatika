{
 "cells": [
  {
   "cell_type": "markdown",
   "id": "696928a0-d091-4bbd-a824-f307878fcbf3",
   "metadata": {},
   "source": [
    "Write a function “de_bruijn_ize” which takes in a string (read) and a k-mer length, and returns a tuple with all unique k-1-mers (nodes) and a list holding, for each k-mer, its left k-1-mer and its right k-1-mer in a pair (edges)."
   ]
  },
  {
   "cell_type": "code",
   "execution_count": 3,
   "id": "70244b13-936a-4148-b73a-d791d10701e8",
   "metadata": {},
   "outputs": [],
   "source": [
    "def de_bruijn_ize(read, k):\n",
    "    # Create empty list/set for edges and nodes; Note that only unique nodes will be collected. \n",
    "    edges = []\n",
    "    nodes = set()\n",
    "    for i in range(len(read) - k + 1):\n",
    "        edges.append((read[i:i+k-1], read[i+1:i+k]))\n",
    "        nodes.add(read[i:i+k-1])\n",
    "        nodes.add(read[i+1:i+k])\n",
    "    return nodes, edges"
   ]
  },
  {
   "cell_type": "code",
   "execution_count": 5,
   "id": "4e41f4b4-c374-4e90-bac3-9a4b35155ae7",
   "metadata": {},
   "outputs": [
    {
     "data": {
      "text/plain": [
       "({'AC', 'CG', 'GC', 'GT', 'TC'},\n",
       " [('AC', 'CG'),\n",
       "  ('CG', 'GC'),\n",
       "  ('GC', 'CG'),\n",
       "  ('CG', 'GT'),\n",
       "  ('GT', 'TC'),\n",
       "  ('TC', 'CG')])"
      ]
     },
     "execution_count": 5,
     "metadata": {},
     "output_type": "execute_result"
    }
   ],
   "source": [
    "de_bruijn_ize(\"ACGCGTCG\", 3)"
   ]
  },
  {
   "cell_type": "code",
   "execution_count": null,
   "id": "e9142f36-9d10-4a87-99ac-1a381158d971",
   "metadata": {},
   "outputs": [],
   "source": []
  }
 ],
 "metadata": {
  "kernelspec": {
   "display_name": "Python 3 (ipykernel)",
   "language": "python",
   "name": "python3"
  },
  "language_info": {
   "codemirror_mode": {
    "name": "ipython",
    "version": 3
   },
   "file_extension": ".py",
   "mimetype": "text/x-python",
   "name": "python",
   "nbconvert_exporter": "python",
   "pygments_lexer": "ipython3",
   "version": "3.9.6"
  }
 },
 "nbformat": 4,
 "nbformat_minor": 5
}
