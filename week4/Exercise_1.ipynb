{
 "cells": [
  {
   "cell_type": "markdown",
   "id": "fbe01c5f-8e51-45b6-b690-fae3babf4ab4",
   "metadata": {},
   "source": [
    "Write a function “kmerize” which takes in a string (read) and a k-mer length, and returns a list of all unique k-mers present in the string."
   ]
  },
  {
   "cell_type": "code",
   "execution_count": 6,
   "id": "7e2bc77a-0480-4521-a9c6-95503573d587",
   "metadata": {},
   "outputs": [],
   "source": [
    "def kmerize(read,k):\n",
    "  read_len=len(read)\n",
    "#k-mer should not be longer than read;  \n",
    "  if k>=read_len:\n",
    "    print (\"The specified k-mer size is greater or equal to the length of the sequence. Please specify another value.\")\n",
    "    return \n",
    "  step_size=k-1\n",
    "  i=0\n",
    "  kmers=[]\n",
    "  while i+step_size<read_len:\n",
    "    if read[i:i+k] not in kmers:\n",
    "        kmers.append(read[i:i+k])\n",
    "    i+=1\n",
    "  print (kmers)"
   ]
  },
  {
   "cell_type": "code",
   "execution_count": 7,
   "id": "500b7cfb-37f3-4f3a-bca7-ef610d465c08",
   "metadata": {},
   "outputs": [
    {
     "name": "stdout",
     "output_type": "stream",
     "text": [
      "['ACG', 'CGC', 'GCG', 'CGT', 'GTC', 'TCG']\n"
     ]
    }
   ],
   "source": [
    "kmerize(\"ACGCGTCGC\", 3)"
   ]
  }
 ],
 "metadata": {
  "kernelspec": {
   "display_name": "Python 3 (ipykernel)",
   "language": "python",
   "name": "python3"
  },
  "language_info": {
   "codemirror_mode": {
    "name": "ipython",
    "version": 3
   },
   "file_extension": ".py",
   "mimetype": "text/x-python",
   "name": "python",
   "nbconvert_exporter": "python",
   "pygments_lexer": "ipython3",
   "version": "3.9.6"
  }
 },
 "nbformat": 4,
 "nbformat_minor": 5
}
