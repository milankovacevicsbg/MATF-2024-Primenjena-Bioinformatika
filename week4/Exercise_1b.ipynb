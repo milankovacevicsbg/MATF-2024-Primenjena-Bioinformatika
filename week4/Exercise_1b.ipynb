{
 "cells": [
  {
   "cell_type": "markdown",
   "id": "fe2569b7-c102-4318-b511-e818ab279316",
   "metadata": {},
   "source": [
    "Write a function “kmer_count” which takes in a string (read) and a k-mer length, and returns a dictionary containing all unique kmers and number of appearances each of these kmers."
   ]
  },
  {
   "cell_type": "code",
   "execution_count": 1,
   "id": "883340c7-4c78-49ad-81a7-bd9ea7104869",
   "metadata": {},
   "outputs": [],
   "source": [
    "def kmer_count(read, k):\n",
    "    # Create an empty dictionary\n",
    "    k_counts = {}\n",
    "    # Calculate how many kmers of length k there are\n",
    "    num_kmers = len(read) - k + 1\n",
    "    # Loop over the kmer start positions\n",
    "    for i in range(num_kmers):\n",
    "        # Slice the string to get the kmer\n",
    "        kmer = read[i:i+k]\n",
    "        # Add the kmer to the dictionary if it's not there\n",
    "        if kmer not in k_counts:\n",
    "            k_counts[kmer] = 0\n",
    "        # Increment the count for this kmer\n",
    "        k_counts[kmer] += 1\n",
    "    # Return the final counts\n",
    "    return k_counts"
   ]
  },
  {
   "cell_type": "code",
   "execution_count": 3,
   "id": "e319562a-26f1-4921-8f79-a563e94d3229",
   "metadata": {},
   "outputs": [
    {
     "data": {
      "text/plain": [
       "{'AA': 2, 'AC': 1, 'CC': 2, 'CG': 2, 'GC': 2}"
      ]
     },
     "execution_count": 3,
     "metadata": {},
     "output_type": "execute_result"
    }
   ],
   "source": [
    "kmer_count(\"AAACCCGCGC\", 2)"
   ]
  },
  {
   "cell_type": "code",
   "execution_count": null,
   "id": "fee8f38f-300b-47f8-b1af-25ba0c42e8db",
   "metadata": {},
   "outputs": [],
   "source": []
  }
 ],
 "metadata": {
  "kernelspec": {
   "display_name": "Python 3 (ipykernel)",
   "language": "python",
   "name": "python3"
  },
  "language_info": {
   "codemirror_mode": {
    "name": "ipython",
    "version": 3
   },
   "file_extension": ".py",
   "mimetype": "text/x-python",
   "name": "python",
   "nbconvert_exporter": "python",
   "pygments_lexer": "ipython3",
   "version": "3.9.6"
  }
 },
 "nbformat": 4,
 "nbformat_minor": 5
}
